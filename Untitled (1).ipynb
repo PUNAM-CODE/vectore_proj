{
 "cells": [
  {
   "cell_type": "markdown",
   "id": "47865cf5",
   "metadata": {},
   "source": [
    "#  aIexa ranking and domain "
   ]
  },
  {
   "cell_type": "code",
   "execution_count": null,
   "id": "b32d7db4",
   "metadata": {},
   "outputs": [],
   "source": [
    "import urllib, sys, bs4\n",
    "print bs4.BeautifulSoup(urllib.urlopen(\"http://data.alexa.com/data?cli=10&dat=s&url=\"+ sys.argv[1]).read(), \"xml\").find(\"REACH\")['RANK']"
   ]
  },
  {
   "cell_type": "code",
   "execution_count": 3,
   "id": "2d84105e",
   "metadata": {},
   "outputs": [
    {
     "name": "stderr",
     "output_type": "stream",
     "text": [
      "ERROR: Could not find a version that satisfies the requirement urllib (from versions: none)\n",
      "ERROR: No matching distribution found for urllib\n",
      "WARNING: You are using pip version 20.1.1; however, version 21.2.4 is available.\n",
      "You should consider upgrading via the 'c:\\users\\admin\\appdata\\local\\programs\\python\\python38\\python.exe -m pip install --upgrade pip' command.\n"
     ]
    }
   ],
   "source": [
    "!pip install urllib"
   ]
  },
  {
   "cell_type": "code",
   "execution_count": 9,
   "id": "463c216d",
   "metadata": {},
   "outputs": [],
   "source": [
    "#!/usr/bin/env python\n",
    "import urllib, sys, re\n",
    "\n",
    "\n"
   ]
  },
  {
   "cell_type": "code",
   "execution_count": 11,
   "id": "893ecd80",
   "metadata": {},
   "outputs": [],
   "source": [
    "import urllib.request as ur\n",
    "xml = ur.urlopen('http://data.alexa.com/data?cli=10&dat=s&url=%s'%sys.argv[1]).read()\n",
    "\n"
   ]
  },
  {
   "cell_type": "code",
   "execution_count": 13,
   "id": "e522d71e",
   "metadata": {},
   "outputs": [
    {
     "name": "stdout",
     "output_type": "stream",
     "text": [
      "Your rank for -f is -1!\n",
      "\n"
     ]
    }
   ],
   "source": [
    "try: rank = int(re.search(r'<POPULARITY[^>]*TEXT=\"(\\d+)\"', xml).groups()[0])\n",
    "except: rank = -1\n",
    "print ('Your rank for %s is %d!\\n' % (sys.argv[1], rank))\n"
   ]
  },
  {
   "cell_type": "code",
   "execution_count": 14,
   "id": "4a72545f",
   "metadata": {},
   "outputs": [
    {
     "data": {
      "text/plain": [
       "b'<?xml version=\"1.0\" encoding=\"UTF-8\"?>\\r\\n\\r\\n<!-- Need more Alexa data?  Find our APIs here: https://aws.amazon.com/marketplace/seller-profile?id=4a9dbf38-88b1-4e87-a459-271154a77d2e -->\\r\\n<ALEXA VER=\"0.9\" URL=\"404\" HOME=\"0\" AID=\"=\" IDN=\"\">\\r\\n</ALEXA>'"
      ]
     },
     "execution_count": 14,
     "metadata": {},
     "output_type": "execute_result"
    }
   ],
   "source": [
    "xml\n"
   ]
  },
  {
   "cell_type": "code",
   "execution_count": 15,
   "id": "fb0e38bd",
   "metadata": {},
   "outputs": [
    {
     "ename": "IndentationError",
     "evalue": "expected an indented block (Temp/ipykernel_31648/3760953941.py, line 3)",
     "output_type": "error",
     "traceback": [
      "\u001b[1;36m  File \u001b[1;32m\"C:\\Users\\Admin\\AppData\\Local\\Temp/ipykernel_31648/3760953941.py\"\u001b[1;36m, line \u001b[1;32m3\u001b[0m\n\u001b[1;33m    print bs4.BeautifulSoup(urllib.urlopen(\"http://data.alexa.com/data?cli=10&dat=s&url=\"+ sys.argv[1]).read(), \"xml\").find(\"REACH\")['RANK']\u001b[0m\n\u001b[1;37m    ^\u001b[0m\n\u001b[1;31mIndentationError\u001b[0m\u001b[1;31m:\u001b[0m expected an indented block\n"
     ]
    }
   ],
   "source": [
    "import urllib, sys, bs4\n",
    "try:\n",
    "print bs4.BeautifulSoup(urllib.urlopen(\"http://data.alexa.com/data?cli=10&dat=s&url=\"+ sys.argv[1]).read(), \"xml\").find(\"REACH\")['RANK']\n",
    "except TypeError:\n",
    "print 'Unable to get \"%s\" Alexa rank. Not enough relevance?' %(sys.argv[1])"
   ]
  },
  {
   "cell_type": "code",
   "execution_count": 16,
   "id": "58209e4c",
   "metadata": {},
   "outputs": [
    {
     "ename": "SyntaxError",
     "evalue": "invalid syntax (Temp/ipykernel_31648/3455282573.py, line 3)",
     "output_type": "error",
     "traceback": [
      "\u001b[1;36m  File \u001b[1;32m\"C:\\Users\\Admin\\AppData\\Local\\Temp/ipykernel_31648/3455282573.py\"\u001b[1;36m, line \u001b[1;32m3\u001b[0m\n\u001b[1;33m    print bs4.BeautifulSoup(urllib.urlopen(\"http://data.alexa.com/data?cli=10&dat=s&url=\"+ sys.argv[1]).read(), \"xml\").find(\"REACH\")['RANK']\u001b[0m\n\u001b[1;37m          ^\u001b[0m\n\u001b[1;31mSyntaxError\u001b[0m\u001b[1;31m:\u001b[0m invalid syntax\n"
     ]
    }
   ],
   "source": [
    "\n",
    "#!/usr/bin/env python\n",
    "import urllib, sys, bs4\n",
    "print bs4.BeautifulSoup(urllib.urlopen(\"http://data.alexa.com/data?cli=10&dat=s&url=\"+ sys.argv[1]).read(), \"xml\").find(\"REACH\")['RANK']"
   ]
  },
  {
   "cell_type": "code",
   "execution_count": 17,
   "id": "5a9ff010",
   "metadata": {},
   "outputs": [
    {
     "ename": "AttributeError",
     "evalue": "'NoneType' object has no attribute 'a'",
     "output_type": "error",
     "traceback": [
      "\u001b[1;31m---------------------------------------------------------------------------\u001b[0m",
      "\u001b[1;31mAttributeError\u001b[0m                            Traceback (most recent call last)",
      "\u001b[1;32m~\\AppData\\Local\\Temp/ipykernel_31648/244113422.py\u001b[0m in \u001b[0;36m<module>\u001b[1;34m\u001b[0m\n\u001b[0;32m      2\u001b[0m \u001b[1;32mimport\u001b[0m \u001b[0murllib\u001b[0m\u001b[1;33m.\u001b[0m\u001b[0mrequest\u001b[0m\u001b[1;33m\u001b[0m\u001b[1;33m\u001b[0m\u001b[0m\n\u001b[0;32m      3\u001b[0m \u001b[0murl\u001b[0m\u001b[1;33m=\u001b[0m\u001b[1;34m'wikipedia.com'\u001b[0m\u001b[1;33m\u001b[0m\u001b[1;33m\u001b[0m\u001b[0m\n\u001b[1;32m----> 4\u001b[1;33m \u001b[0mrank_str\u001b[0m \u001b[1;33m=\u001b[0m\u001b[0mBeautifulSoup\u001b[0m\u001b[1;33m(\u001b[0m\u001b[0murllib\u001b[0m\u001b[1;33m.\u001b[0m\u001b[0mrequest\u001b[0m\u001b[1;33m.\u001b[0m\u001b[0murlopen\u001b[0m\u001b[1;33m(\u001b[0m\u001b[1;34m\"https://www.alexa.com/minisiteinfo/\"\u001b[0m \u001b[1;33m+\u001b[0m\u001b[0murl\u001b[0m\u001b[1;33m)\u001b[0m\u001b[1;33m,\u001b[0m\u001b[1;34m'html.parser'\u001b[0m\u001b[1;33m)\u001b[0m\u001b[1;33m.\u001b[0m\u001b[0mtable\u001b[0m\u001b[1;33m.\u001b[0m\u001b[0ma\u001b[0m\u001b[1;33m.\u001b[0m\u001b[0mget_text\u001b[0m\u001b[1;33m(\u001b[0m\u001b[1;33m)\u001b[0m\u001b[1;33m\u001b[0m\u001b[1;33m\u001b[0m\u001b[0m\n\u001b[0m\u001b[0;32m      5\u001b[0m \u001b[0mrank_int\u001b[0m\u001b[1;33m=\u001b[0m\u001b[0mint\u001b[0m\u001b[1;33m(\u001b[0m\u001b[0mrank_str\u001b[0m\u001b[1;33m.\u001b[0m\u001b[0mreplace\u001b[0m\u001b[1;33m(\u001b[0m\u001b[1;34m','\u001b[0m\u001b[1;33m,\u001b[0m\u001b[1;34m''\u001b[0m\u001b[1;33m)\u001b[0m\u001b[1;33m)\u001b[0m\u001b[1;33m\u001b[0m\u001b[1;33m\u001b[0m\u001b[0m\n\u001b[0;32m      6\u001b[0m \u001b[0mprint\u001b[0m\u001b[1;33m(\u001b[0m\u001b[0mrank_int\u001b[0m\u001b[1;33m)\u001b[0m\u001b[1;33m\u001b[0m\u001b[1;33m\u001b[0m\u001b[0m\n",
      "\u001b[1;31mAttributeError\u001b[0m: 'NoneType' object has no attribute 'a'"
     ]
    }
   ],
   "source": [
    "from bs4 import BeautifulSoup\n",
    "import urllib.request\n",
    "url='wikipedia.com'\n",
    "rank_str =BeautifulSoup(urllib.request.urlopen(\"https://www.alexa.com/minisiteinfo/\" +url),'html.parser').table.a.get_text()\n",
    "rank_int=int(rank_str.replace(',',''))\n",
    "print(rank_int)"
   ]
  },
  {
   "cell_type": "code",
   "execution_count": 18,
   "id": "1817350d",
   "metadata": {},
   "outputs": [
    {
     "name": "stdout",
     "output_type": "stream",
     "text": [
      "Collecting seolib"
     ]
    },
    {
     "name": "stderr",
     "output_type": "stream",
     "text": [
      "WARNING: You are using pip version 20.1.1; however, version 21.2.4 is available.\n",
      "You should consider upgrading via the 'c:\\users\\admin\\appdata\\local\\programs\\python\\python38\\python.exe -m pip install --upgrade pip' command.\n"
     ]
    },
    {
     "name": "stdout",
     "output_type": "stream",
     "text": [
      "\n",
      "  Downloading seolib-0.1.3.zip (9.3 kB)\n",
      "Requirement already satisfied: requests in c:\\users\\admin\\appdata\\local\\programs\\python\\python38\\lib\\site-packages (from seolib) (2.26.0)\n",
      "Requirement already satisfied: lxml in c:\\users\\admin\\appdata\\local\\programs\\python\\python38\\lib\\site-packages (from seolib) (4.6.3)\n",
      "Requirement already satisfied: urllib3<1.27,>=1.21.1 in c:\\users\\admin\\appdata\\local\\programs\\python\\python38\\lib\\site-packages (from requests->seolib) (1.26.6)\n",
      "Requirement already satisfied: certifi>=2017.4.17 in c:\\users\\admin\\appdata\\local\\programs\\python\\python38\\lib\\site-packages (from requests->seolib) (2021.5.30)\n",
      "Requirement already satisfied: idna<4,>=2.5; python_version >= \"3\" in c:\\users\\admin\\appdata\\local\\programs\\python\\python38\\lib\\site-packages (from requests->seolib) (3.2)\n",
      "Requirement already satisfied: charset-normalizer~=2.0.0; python_version >= \"3\" in c:\\users\\admin\\appdata\\local\\programs\\python\\python38\\lib\\site-packages (from requests->seolib) (2.0.2)\n",
      "Building wheels for collected packages: seolib\n",
      "  Building wheel for seolib (setup.py): started\n",
      "  Building wheel for seolib (setup.py): finished with status 'done'\n",
      "  Created wheel for seolib: filename=seolib-0.1.3-py3-none-any.whl size=6169 sha256=50e368bafb17aea894e708c88198de049c727cb1c2b375b5eb42a43e0b306bb7\n",
      "  Stored in directory: c:\\users\\admin\\appdata\\local\\pip\\cache\\wheels\\22\\16\\4d\\b95a1ebb285d0b7bd2691b6f8fec9c5e9886435192ae375a78\n",
      "Successfully built seolib\n",
      "Installing collected packages: seolib\n",
      "Successfully installed seolib-0.1.3\n"
     ]
    }
   ],
   "source": [
    "!pip install seolib"
   ]
  },
  {
   "cell_type": "code",
   "execution_count": 20,
   "id": "1fb1a420",
   "metadata": {},
   "outputs": [
    {
     "ename": "ModuleNotFoundError",
     "evalue": "No module named 'api'",
     "output_type": "error",
     "traceback": [
      "\u001b[1;31m---------------------------------------------------------------------------\u001b[0m",
      "\u001b[1;31mModuleNotFoundError\u001b[0m                       Traceback (most recent call last)",
      "\u001b[1;32m~\\AppData\\Local\\Temp/ipykernel_31648/983552598.py\u001b[0m in \u001b[0;36m<module>\u001b[1;34m\u001b[0m\n\u001b[1;32m----> 1\u001b[1;33m \u001b[1;32mfrom\u001b[0m \u001b[0mapi\u001b[0m\u001b[1;33m.\u001b[0m\u001b[0musers\u001b[0m\u001b[1;33m.\u001b[0m\u001b[0mviews\u001b[0m \u001b[1;32mimport\u001b[0m \u001b[0mCustomObtainAuthToken\u001b[0m\u001b[1;33m\u001b[0m\u001b[1;33m\u001b[0m\u001b[0m\n\u001b[0m",
      "\u001b[1;31mModuleNotFoundError\u001b[0m: No module named 'api'"
     ]
    }
   ],
   "source": [
    "from api.users.views import CustomObtainAuthToken"
   ]
  },
  {
   "cell_type": "code",
   "execution_count": 1,
   "id": "0cbce82c",
   "metadata": {},
   "outputs": [
    {
     "name": "stdout",
     "output_type": "stream",
     "text": [
      "Welcome To Your Assistant Robot\n",
      "Enter domain name for check! for example pythoniha.ir: mitre.org\n",
      "Your Rank is:  21,871\n"
     ]
    },
    {
     "ename": "KeyboardInterrupt",
     "evalue": "",
     "output_type": "error",
     "traceback": [
      "\u001b[1;31m---------------------------------------------------------------------------\u001b[0m",
      "\u001b[1;31mKeyboardInterrupt\u001b[0m                         Traceback (most recent call last)",
      "\u001b[1;32m~\\AppData\\Local\\Temp/ipykernel_27652/4202302942.py\u001b[0m in \u001b[0;36m<module>\u001b[1;34m\u001b[0m\n\u001b[0;32m     33\u001b[0m         \u001b[0mprint\u001b[0m\u001b[1;33m(\u001b[0m\u001b[0morg_rank\u001b[0m\u001b[1;33m)\u001b[0m\u001b[1;33m\u001b[0m\u001b[1;33m\u001b[0m\u001b[0m\n\u001b[0;32m     34\u001b[0m \u001b[1;33m\u001b[0m\u001b[0m\n\u001b[1;32m---> 35\u001b[1;33m     \u001b[0mtime\u001b[0m\u001b[1;33m.\u001b[0m\u001b[0msleep\u001b[0m\u001b[1;33m(\u001b[0m\u001b[1;36m1\u001b[0m\u001b[1;33m)\u001b[0m\u001b[1;33m\u001b[0m\u001b[1;33m\u001b[0m\u001b[0m\n\u001b[0m",
      "\u001b[1;31mKeyboardInterrupt\u001b[0m: "
     ]
    }
   ],
   "source": [
    "# import needed libs\n",
    "from bs4 import BeautifulSoup # scraper\n",
    "import requests as r # for get page information\n",
    "import re # regex\n",
    "from datetime import datetime\n",
    "import time\n",
    "\n",
    "# this function get our rank\n",
    "def rank(domain):\n",
    "    url = \"https://www.alexa.com/siteinfo/\" + domain\n",
    "    respone = r.get(url) # get information from page\n",
    "    soup = BeautifulSoup(respone.content,'html.parser')  \n",
    "    for match in soup.find_all('span'): #remove all span tag\n",
    "        match.unwrap()\n",
    "    global_rank = soup.select('p.big.data') # select any p tag with big and data class\n",
    "    global_rank = str(global_rank[0])\n",
    "    res = re.findall(r\"([0-9,]{1,12})\", global_rank) # find rank \n",
    "    \n",
    "    return(res[0]) #return rank\n",
    "\n",
    "print(\"Welcome To Your Assistant Robot\")\n",
    "domain = input(\"Enter domain name for check! for example pythoniha.ir: \")\n",
    "org_rank = rank(domain)\n",
    "print(\"Your Rank is: \", org_rank)\n",
    "while True:\n",
    "    if org_rank != rank(domain):\n",
    "        myFile = open('log.txt','a')\n",
    "        str_write = \"Your Rank was \" + str(org_rank) + \" but it change to: \" + str(rank()) + \" on:\" + str(datetime.now()) + \"\\r\\n\"  # write log with time and info\n",
    "        myFile.write(str(rank(domain)) + \"\\r\\n\")\n",
    "        myFile.write(str_write)\n",
    "        myFile.close()\n",
    "        org_rank = rank(domain)\n",
    "        print(org_rank)\n",
    "        \n",
    "    time.sleep(1)"
   ]
  },
  {
   "cell_type": "code",
   "execution_count": 4,
   "id": "beeb523c",
   "metadata": {},
   "outputs": [
    {
     "name": "stdout",
     "output_type": "stream",
     "text": [
      "honchosearch.com\n"
     ]
    }
   ],
   "source": [
    "from tld import get_tld\n",
    " \n",
    "url = 'https://www.honchosearch.com/blog/seo/14-elements-every-successful-outreach-campaign-need/' #URL to strip. Change this URL to whatever you want.\n",
    " \n",
    "res = get_tld(url, as_object=True) #Get the root as an object\n",
    " \n",
    "print (res.fld) #res.fld to extract the domain"
   ]
  },
  {
   "cell_type": "code",
   "execution_count": 3,
   "id": "a01c041c",
   "metadata": {},
   "outputs": [
    {
     "name": "stdout",
     "output_type": "stream",
     "text": [
      "Collecting tld\n",
      "  Downloading tld-0.12.6-py38-none-any.whl (412 kB)\n",
      "Installing collected packages: tld\n",
      "Successfully installed tld-0.12.6\n"
     ]
    },
    {
     "name": "stderr",
     "output_type": "stream",
     "text": [
      "WARNING: You are using pip version 20.1.1; however, version 21.2.4 is available.\n",
      "You should consider upgrading via the 'c:\\users\\admin\\appdata\\local\\programs\\python\\python38\\python.exe -m pip install --upgrade pip' command.\n"
     ]
    }
   ],
   "source": [
    "!pip install tld\n"
   ]
  },
  {
   "cell_type": "code",
   "execution_count": 5,
   "id": "0003940c",
   "metadata": {},
   "outputs": [
    {
     "ename": "FileNotFoundError",
     "evalue": "[Errno 2] No such file or directory: 'urls_file.csv'",
     "output_type": "error",
     "traceback": [
      "\u001b[1;31m---------------------------------------------------------------------------\u001b[0m",
      "\u001b[1;31mFileNotFoundError\u001b[0m                         Traceback (most recent call last)",
      "\u001b[1;32m~\\AppData\\Local\\Temp/ipykernel_27652/4041353458.py\u001b[0m in \u001b[0;36m<module>\u001b[1;34m\u001b[0m\n\u001b[0;32m      4\u001b[0m \u001b[1;31m#URLs should be in column A without a heading, in a CSV file named \"urls_file.csv\"\u001b[0m\u001b[1;33m\u001b[0m\u001b[1;33m\u001b[0m\u001b[1;33m\u001b[0m\u001b[0m\n\u001b[0;32m      5\u001b[0m \u001b[1;33m\u001b[0m\u001b[0m\n\u001b[1;32m----> 6\u001b[1;33m \u001b[0murls\u001b[0m \u001b[1;33m=\u001b[0m \u001b[1;33m[\u001b[0m\u001b[0mline\u001b[0m\u001b[1;33m.\u001b[0m\u001b[0mrstrip\u001b[0m\u001b[1;33m(\u001b[0m\u001b[1;34m'\\n'\u001b[0m\u001b[1;33m)\u001b[0m \u001b[1;32mfor\u001b[0m \u001b[0mline\u001b[0m \u001b[1;32min\u001b[0m \u001b[0mopen\u001b[0m\u001b[1;33m(\u001b[0m\u001b[0murls_file\u001b[0m\u001b[1;33m)\u001b[0m\u001b[1;33m]\u001b[0m\u001b[1;33m\u001b[0m\u001b[1;33m\u001b[0m\u001b[0m\n\u001b[0m\u001b[0;32m      7\u001b[0m \u001b[1;33m\u001b[0m\u001b[0m\n\u001b[0;32m      8\u001b[0m \u001b[1;32mfor\u001b[0m \u001b[0murl\u001b[0m \u001b[1;32min\u001b[0m \u001b[0murls\u001b[0m\u001b[1;33m:\u001b[0m\u001b[1;33m\u001b[0m\u001b[1;33m\u001b[0m\u001b[0m\n",
      "\u001b[1;31mFileNotFoundError\u001b[0m: [Errno 2] No such file or directory: 'urls_file.csv'"
     ]
    }
   ],
   "source": [
    "from tld import get_tld\n",
    " \n",
    "urls_file = \"urls_file.csv\"\n",
    "#URLs should be in column A without a heading, in a CSV file named \"urls_file.csv\"\n",
    " \n",
    "urls = [line.rstrip('\\n') for line in open(urls_file)]\n",
    " \n",
    "for url in urls:\n",
    "    res = get_tld(url,as_object=True)\n",
    "    print(res.fld)"
   ]
  },
  {
   "cell_type": "code",
   "execution_count": 6,
   "id": "f018ffab",
   "metadata": {},
   "outputs": [
    {
     "name": "stderr",
     "output_type": "stream",
     "text": [
      "usage: ipykernel_launcher.py [-h] -d DOMAIN\n",
      "ipykernel_launcher.py: error: the following arguments are required: -d/--domain\n"
     ]
    },
    {
     "ename": "SystemExit",
     "evalue": "2",
     "output_type": "error",
     "traceback": [
      "An exception has occurred, use %tb to see the full traceback.\n",
      "\u001b[1;31mSystemExit\u001b[0m\u001b[1;31m:\u001b[0m 2\n"
     ]
    },
    {
     "name": "stderr",
     "output_type": "stream",
     "text": [
      "c:\\users\\admin\\appdata\\local\\programs\\python\\python38\\lib\\site-packages\\IPython\\core\\interactiveshell.py:3449: UserWarning: To exit: use 'exit', 'quit', or Ctrl-D.\n",
      "  warn(\"To exit: use 'exit', 'quit', or Ctrl-D.\", stacklevel=1)\n"
     ]
    }
   ],
   "source": [
    "#! /usr/bin/python3\n",
    "# check a domain's Alexa rank via command line\n",
    "# pass domain as argument with -d option\n",
    "# usage:\n",
    "# python alexa_check.py -d example_domain.com\n",
    "import requests\n",
    "import argparse\n",
    "import re\n",
    " \n",
    " \n",
    "class AlexaCheck:\n",
    "    def __init__(self, domain):\n",
    "        self.url = \"https://www.alexa.com/siteinfo/\" + domain\n",
    " \n",
    "    def __search_regex(self, regex, phrase):\n",
    "        match = re.search(regex, phrase)\n",
    "        if match:\n",
    "            return match.group(1)\n",
    " \n",
    "    def check(self):\n",
    "        r = requests.get(self.url)\n",
    "        page = str(r.text).split(\"\\n\")\n",
    "        found_global = False\n",
    "        for line in page:\n",
    "            if \"</strong>\" in line and any(char.isdigit() for char in line):\n",
    "                perspective = line.replace(',', '')\n",
    "                found = self.__search_regex(\"(\\d+)\\s+<\", perspective)\n",
    "                if found and found[:1] != \"0\":\n",
    "                    if not found_global:\n",
    "                        found_global = True\n",
    "                        yield (\"global_rank\", found)\n",
    "            if \"Flag\" in line and \"nbsp\" in line:\n",
    "                perspective = line.replace(',', '')\n",
    "                country = self.__search_regex(\".*\\w+;(.*)</a>\", perspective)\n",
    "                country_rank = self.__search_regex(\".*>(\\d+)<\", perspective)\n",
    "                yield (country, country_rank)\n",
    " \n",
    " \n",
    "if __name__ == \"__main__\":\n",
    "    message = 'Enter a domain: example.com'\n",
    "    parser = argparse.ArgumentParser(description='-d domain.com argument')\n",
    "    parser.add_argument('-d', '--domain', required=True, help=message)\n",
    "    domain = vars(parser.parse_args())\n",
    "    for rank_tuple in AlexaCheck(domain['domain']).check():\n",
    "        print(rank_tuple)"
   ]
  },
  {
   "cell_type": "code",
   "execution_count": null,
   "id": "4f0c919e",
   "metadata": {},
   "outputs": [],
   "source": []
  }
 ],
 "metadata": {
  "kernelspec": {
   "display_name": "Python 3 (ipykernel)",
   "language": "python",
   "name": "python3"
  },
  "language_info": {
   "codemirror_mode": {
    "name": "ipython",
    "version": 3
   },
   "file_extension": ".py",
   "mimetype": "text/x-python",
   "name": "python",
   "nbconvert_exporter": "python",
   "pygments_lexer": "ipython3",
   "version": "3.8.4"
  }
 },
 "nbformat": 4,
 "nbformat_minor": 5
}
